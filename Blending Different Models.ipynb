{
 "cells": [
  {
   "cell_type": "markdown",
   "id": "c5edbb1a",
   "metadata": {},
   "source": [
    "# Blending Results of Different Models"
   ]
  },
  {
   "cell_type": "code",
   "execution_count": 1,
   "id": "785089df",
   "metadata": {},
   "outputs": [],
   "source": [
    "import pandas as pd\n",
    "import numpy as np"
   ]
  },
  {
   "cell_type": "code",
   "execution_count": 2,
   "id": "e972acdd",
   "metadata": {},
   "outputs": [],
   "source": [
    "from functools import reduce\n",
    "import seaborn as sns"
   ]
  },
  {
   "cell_type": "code",
   "execution_count": 3,
   "id": "0495fe62",
   "metadata": {},
   "outputs": [],
   "source": [
    "M1 = pd.read_csv('submission_xgb.csv')\n",
    "M2 = pd.read_csv('submission_cb3.csv')\n",
    "M3 = pd.read_csv('submission_lgbm.csv')"
   ]
  },
  {
   "cell_type": "code",
   "execution_count": 4,
   "id": "b937d2f3",
   "metadata": {},
   "outputs": [],
   "source": [
    "def merge_dataframes(dfs, merge_keys):\n",
    "    dfs_merged = reduce(lambda left,right: pd.merge(left, right, on=merge_keys), dfs)\n",
    "    return dfs_merged"
   ]
  },
  {
   "cell_type": "code",
   "execution_count": 5,
   "id": "8124a362",
   "metadata": {},
   "outputs": [],
   "source": [
    "dfs = [M1,M2,M3]\n",
    "merge_keys=['SK_ID_CURR']\n",
    "df = merge_dataframes(dfs, merge_keys=merge_keys)"
   ]
  },
  {
   "cell_type": "code",
   "execution_count": 6,
   "id": "4129fad7",
   "metadata": {},
   "outputs": [
    {
     "data": {
      "text/html": [
       "<div>\n",
       "<style scoped>\n",
       "    .dataframe tbody tr th:only-of-type {\n",
       "        vertical-align: middle;\n",
       "    }\n",
       "\n",
       "    .dataframe tbody tr th {\n",
       "        vertical-align: top;\n",
       "    }\n",
       "\n",
       "    .dataframe thead th {\n",
       "        text-align: right;\n",
       "    }\n",
       "</style>\n",
       "<table border=\"1\" class=\"dataframe\">\n",
       "  <thead>\n",
       "    <tr style=\"text-align: right;\">\n",
       "      <th></th>\n",
       "      <th>SK_ID_CURR</th>\n",
       "      <th>TARGET_x</th>\n",
       "      <th>TARGET_y</th>\n",
       "      <th>TARGET</th>\n",
       "    </tr>\n",
       "  </thead>\n",
       "  <tbody>\n",
       "    <tr>\n",
       "      <th>0</th>\n",
       "      <td>100001</td>\n",
       "      <td>0.013964</td>\n",
       "      <td>0.148296</td>\n",
       "      <td>0.058008</td>\n",
       "    </tr>\n",
       "    <tr>\n",
       "      <th>1</th>\n",
       "      <td>100005</td>\n",
       "      <td>0.133929</td>\n",
       "      <td>0.524518</td>\n",
       "      <td>0.105426</td>\n",
       "    </tr>\n",
       "    <tr>\n",
       "      <th>2</th>\n",
       "      <td>100013</td>\n",
       "      <td>0.016027</td>\n",
       "      <td>0.037718</td>\n",
       "      <td>0.011330</td>\n",
       "    </tr>\n",
       "    <tr>\n",
       "      <th>3</th>\n",
       "      <td>100028</td>\n",
       "      <td>0.027366</td>\n",
       "      <td>0.137909</td>\n",
       "      <td>0.040338</td>\n",
       "    </tr>\n",
       "    <tr>\n",
       "      <th>4</th>\n",
       "      <td>100038</td>\n",
       "      <td>0.104505</td>\n",
       "      <td>0.369212</td>\n",
       "      <td>0.152793</td>\n",
       "    </tr>\n",
       "  </tbody>\n",
       "</table>\n",
       "</div>"
      ],
      "text/plain": [
       "   SK_ID_CURR  TARGET_x  TARGET_y    TARGET\n",
       "0      100001  0.013964  0.148296  0.058008\n",
       "1      100005  0.133929  0.524518  0.105426\n",
       "2      100013  0.016027  0.037718  0.011330\n",
       "3      100028  0.027366  0.137909  0.040338\n",
       "4      100038  0.104505  0.369212  0.152793"
      ]
     },
     "execution_count": 6,
     "metadata": {},
     "output_type": "execute_result"
    }
   ],
   "source": [
    "df.head()"
   ]
  },
  {
   "cell_type": "code",
   "execution_count": 8,
   "id": "0046f7d6",
   "metadata": {},
   "outputs": [
    {
     "data": {
      "text/html": [
       "<div>\n",
       "<style scoped>\n",
       "    .dataframe tbody tr th:only-of-type {\n",
       "        vertical-align: middle;\n",
       "    }\n",
       "\n",
       "    .dataframe tbody tr th {\n",
       "        vertical-align: top;\n",
       "    }\n",
       "\n",
       "    .dataframe thead th {\n",
       "        text-align: right;\n",
       "    }\n",
       "</style>\n",
       "<table border=\"1\" class=\"dataframe\">\n",
       "  <thead>\n",
       "    <tr style=\"text-align: right;\">\n",
       "      <th></th>\n",
       "      <th>SK_ID_CURR</th>\n",
       "      <th>T1</th>\n",
       "      <th>T2</th>\n",
       "      <th>T3</th>\n",
       "    </tr>\n",
       "  </thead>\n",
       "  <tbody>\n",
       "    <tr>\n",
       "      <th>0</th>\n",
       "      <td>100001</td>\n",
       "      <td>0.013964</td>\n",
       "      <td>0.148296</td>\n",
       "      <td>0.058008</td>\n",
       "    </tr>\n",
       "    <tr>\n",
       "      <th>1</th>\n",
       "      <td>100005</td>\n",
       "      <td>0.133929</td>\n",
       "      <td>0.524518</td>\n",
       "      <td>0.105426</td>\n",
       "    </tr>\n",
       "    <tr>\n",
       "      <th>2</th>\n",
       "      <td>100013</td>\n",
       "      <td>0.016027</td>\n",
       "      <td>0.037718</td>\n",
       "      <td>0.011330</td>\n",
       "    </tr>\n",
       "    <tr>\n",
       "      <th>3</th>\n",
       "      <td>100028</td>\n",
       "      <td>0.027366</td>\n",
       "      <td>0.137909</td>\n",
       "      <td>0.040338</td>\n",
       "    </tr>\n",
       "    <tr>\n",
       "      <th>4</th>\n",
       "      <td>100038</td>\n",
       "      <td>0.104505</td>\n",
       "      <td>0.369212</td>\n",
       "      <td>0.152793</td>\n",
       "    </tr>\n",
       "    <tr>\n",
       "      <th>5</th>\n",
       "      <td>100042</td>\n",
       "      <td>0.027424</td>\n",
       "      <td>0.086948</td>\n",
       "      <td>0.053148</td>\n",
       "    </tr>\n",
       "    <tr>\n",
       "      <th>6</th>\n",
       "      <td>100057</td>\n",
       "      <td>0.003664</td>\n",
       "      <td>0.018826</td>\n",
       "      <td>0.000703</td>\n",
       "    </tr>\n",
       "    <tr>\n",
       "      <th>7</th>\n",
       "      <td>100065</td>\n",
       "      <td>0.028122</td>\n",
       "      <td>0.094025</td>\n",
       "      <td>0.040406</td>\n",
       "    </tr>\n",
       "    <tr>\n",
       "      <th>8</th>\n",
       "      <td>100066</td>\n",
       "      <td>0.007773</td>\n",
       "      <td>0.056042</td>\n",
       "      <td>0.040518</td>\n",
       "    </tr>\n",
       "    <tr>\n",
       "      <th>9</th>\n",
       "      <td>100067</td>\n",
       "      <td>0.060093</td>\n",
       "      <td>0.182713</td>\n",
       "      <td>0.139288</td>\n",
       "    </tr>\n",
       "  </tbody>\n",
       "</table>\n",
       "</div>"
      ],
      "text/plain": [
       "   SK_ID_CURR        T1        T2        T3\n",
       "0      100001  0.013964  0.148296  0.058008\n",
       "1      100005  0.133929  0.524518  0.105426\n",
       "2      100013  0.016027  0.037718  0.011330\n",
       "3      100028  0.027366  0.137909  0.040338\n",
       "4      100038  0.104505  0.369212  0.152793\n",
       "5      100042  0.027424  0.086948  0.053148\n",
       "6      100057  0.003664  0.018826  0.000703\n",
       "7      100065  0.028122  0.094025  0.040406\n",
       "8      100066  0.007773  0.056042  0.040518\n",
       "9      100067  0.060093  0.182713  0.139288"
      ]
     },
     "execution_count": 8,
     "metadata": {},
     "output_type": "execute_result"
    }
   ],
   "source": [
    "df.columns = ['SK_ID_CURR','T1','T2','T3']\n",
    "df.head(10)"
   ]
  },
  {
   "cell_type": "code",
   "execution_count": 43,
   "id": "25b6353c",
   "metadata": {},
   "outputs": [
    {
     "data": {
      "text/plain": [
       "0    0.038408\n",
       "1    0.165862\n",
       "2    0.017022\n",
       "3    0.041663\n",
       "4    0.143048\n",
       "dtype: float64"
      ]
     },
     "execution_count": 43,
     "metadata": {},
     "output_type": "execute_result"
    }
   ],
   "source": [
    "pred_prob = 0.75 * df['T1'] + 0.1 * df['T2'] + 0.15 * df['T3']\n",
    "pred_prob.head()"
   ]
  },
  {
   "cell_type": "code",
   "execution_count": 44,
   "id": "665b1017",
   "metadata": {},
   "outputs": [],
   "source": [
    "sub = pd.DataFrame()\n",
    "sub['SK_ID_CURR'] = df['SK_ID_CURR']\n",
    "sub['TARGET']= pred_prob"
   ]
  },
  {
   "cell_type": "code",
   "execution_count": 45,
   "id": "526e660e",
   "metadata": {},
   "outputs": [],
   "source": [
    "sub.to_csv('blend8.csv', index=False)"
   ]
  }
 ],
 "metadata": {
  "kernelspec": {
   "display_name": "Python 3",
   "language": "python",
   "name": "python3"
  },
  "language_info": {
   "codemirror_mode": {
    "name": "ipython",
    "version": 3
   },
   "file_extension": ".py",
   "mimetype": "text/x-python",
   "name": "python",
   "nbconvert_exporter": "python",
   "pygments_lexer": "ipython3",
   "version": "3.8.8"
  }
 },
 "nbformat": 4,
 "nbformat_minor": 5
}
